{
 "cells": [
  {
   "cell_type": "markdown",
   "id": "bad706c1-2a27-4d9a-8199-d873fa9a935d",
   "metadata": {},
   "source": [
    "# <center>Fast-Paced Introduction to C/C++</center>"
   ]
  },
  {
   "cell_type": "markdown",
   "id": "ade9740c-2564-41a8-873d-8ea09a64b1e1",
   "metadata": {},
   "source": [
    "## Part1: Write and compile simple programs ============================\n",
    "We will use C's `cstdio` library, which creates a single string and writes it to the output, unlike C++'s `iostream`. This is more convenient when several threads are printing to the same output. (Note: C++ 23 specification will include a `print` library that acts similarly to C's `printf`) "
   ]
  },
  {
   "cell_type": "markdown",
   "id": "469f2a1c-3aec-4088-b206-b18b06f7590e",
   "metadata": {},
   "source": [
    "### Output to the terminal\n",
    "The following code writes a string to the terminal:"
   ]
  },
  {
   "cell_type": "markdown",
   "id": "12386848-de9d-4d2c-82fd-b5da38a0ef39",
   "metadata": {},
   "source": [
    "<div class=\"alert alert-success\">\n",
    "\n",
    "`hello_world.cpp`\n",
    "```C++\n",
    "#include <cstdio>\n",
    "\n",
    "int main() {\n",
    "    printf(\"Hello World.\\n\");\n",
    "  \n",
    "    return 0;\n",
    "}\n",
    "```\n",
    "</div>"
   ]
  },
  {
   "cell_type": "markdown",
   "id": "dde65098-3bc1-491f-b679-6559006ab8e1",
   "metadata": {},
   "source": [
    "Let's compile the code first using GNU's C++ compiler:"
   ]
  },
  {
   "cell_type": "code",
   "execution_count": 1,
   "id": "fe27dc85-f282-4452-bb2a-0ad905e2b922",
   "metadata": {},
   "outputs": [],
   "source": [
    "!g++ -o hello_world code/hello_world.cpp"
   ]
  },
  {
   "cell_type": "markdown",
   "id": "0ff39421-c712-4aa0-95b0-a75686771958",
   "metadata": {},
   "source": [
    "which should create an executable file called `hello_world`. And now execute the program:"
   ]
  },
  {
   "cell_type": "code",
   "execution_count": 2,
   "id": "94e4c48a-2bf7-4664-ad86-812a5b2e1af6",
   "metadata": {},
   "outputs": [
    {
     "name": "stdout",
     "output_type": "stream",
     "text": [
      "Hello World.\r\n"
     ]
    }
   ],
   "source": [
    "!./hello_world"
   ]
  },
  {
   "cell_type": "markdown",
   "id": "27c5502f-f786-4090-aba6-618479086184",
   "metadata": {},
   "source": [
    "Note that the execution block is enclosed in a function called `main()`, which returns the value 0 if it is completed successfully. The declaration of `main()` is mandatory in C/C++."
   ]
  },
  {
   "cell_type": "markdown",
   "id": "97a86f4b-2a14-4838-9146-371b8f1b6b90",
   "metadata": {},
   "source": [
    "### Passing arguments to a program\n",
    "It is possible to declare the `main()` function so that it receives arguments from the command line. Let's look at the following example:"
   ]
  },
  {
   "cell_type": "markdown",
   "id": "f2b74f99-1c53-42fe-af15-f7c7f7e3312d",
   "metadata": {},
   "source": [
    "<div class=\"alert alert-success\">\n",
    "\n",
    "`arguments.cpp`\n",
    "```C++\n",
    "#include <cstdio>\n",
    "\n",
    "int main(int argc, char *argv[]) {\n",
    "  printf(\"There are %d arguments, which are:\\n\", argc);\n",
    "\n",
    "  for(int i = 0; i < argc; i++){\n",
    "    printf(\"%s\\n\",argv[i]);\n",
    "  }\n",
    "\n",
    "  return 0;\n",
    "}\n",
    "```\n",
    "</div>"
   ]
  },
  {
   "cell_type": "markdown",
   "id": "19827b28-f0ac-4c58-a8db-b964ab2a050a",
   "metadata": {},
   "source": [
    "Let's compile and run the code, passing several strings as arguments along the execution call:"
   ]
  },
  {
   "cell_type": "code",
   "execution_count": 6,
   "id": "49ecc3b8-f2c2-452e-94b3-d66bb99079ba",
   "metadata": {},
   "outputs": [],
   "source": [
    "!g++ -o arguments code/arguments.cpp"
   ]
  },
  {
   "cell_type": "code",
   "execution_count": 7,
   "id": "a0ad4c9b-334a-4e79-bcd1-cac9050ee2d5",
   "metadata": {},
   "outputs": [
    {
     "name": "stdout",
     "output_type": "stream",
     "text": [
      "There are 4 arguments, which are:\r\n",
      "./arguments\r\n",
      "arg1\r\n",
      "arg2\r\n",
      "arg3\r\n"
     ]
    }
   ],
   "source": [
    "!./arguments arg1 arg2 arg3"
   ]
  },
  {
   "cell_type": "markdown",
   "id": "dc20daac-e8ac-4fb5-a8f2-98c6e60f8847",
   "metadata": {},
   "source": [
    "Note the following:\n",
    "- The main function has now two parameters: `int argc` and `char **argv`.\n",
    "- The integer parameter `argc` stores the number of arguments received.\n",
    "- `argv` is an array containing `argc` strings.\n",
    "- The first argument is always the execution call.\n",
    "- Subsequent arguments are passed separated by space and are stored as strings of characters."
   ]
  },
  {
   "cell_type": "markdown",
   "id": "fb50b4b4-b569-404a-876d-8b59ead05425",
   "metadata": {},
   "source": [
    "If we want to pass numeric arguments to our program, we have to convert the string to either integer or floating point format. We can do this using the `atoi()` and `atof()` functions of the standard C library `cstdlib`."
   ]
  },
  {
   "cell_type": "markdown",
   "id": "5f858508-b698-497c-843c-cd5e3276d71b",
   "metadata": {},
   "source": [
    "<div class=\"alert alert-success\">\n",
    "\n",
    "`arguments2.cpp`\n",
    "```C++\n",
    "#include <cstdio>\n",
    "#include <cstdlib>\n",
    "\n",
    "int main(int argc, char *argv[]) {\n",
    "  int an_integer = atoi(argv[1]);\n",
    "  double a_real = atof(argv[2]);\n",
    "\n",
    "  printf(\"The sum of the arguments is %f\\n\", an_integer+a_real);\n",
    "  \n",
    "  return 0;\n",
    "}\n",
    "```\n",
    "</div>"
   ]
  },
  {
   "cell_type": "code",
   "execution_count": 8,
   "id": "74c2ddf9-4ca2-4773-a0d1-66e26e77c4d3",
   "metadata": {},
   "outputs": [],
   "source": [
    "!g++ -o arguments2 code/arguments2.cpp"
   ]
  },
  {
   "cell_type": "code",
   "execution_count": 9,
   "id": "14442e7f-5b56-47ba-930a-8f23aa2e0725",
   "metadata": {},
   "outputs": [
    {
     "name": "stdout",
     "output_type": "stream",
     "text": [
      "The sum of the arguments is 5.140000\r\n"
     ]
    }
   ],
   "source": [
    "!./arguments2 2 3.14"
   ]
  },
  {
   "cell_type": "markdown",
   "id": "1333736a-b040-41fb-9964-ec4827be22c2",
   "metadata": {},
   "source": [
    "## Part 2: Syntax =============================================\n",
    "In the previous section, we already saw some syntax. In this section, we will review it more explicitly."
   ]
  },
  {
   "cell_type": "markdown",
   "id": "5573654b-b41d-4b0b-901b-4b8d279eb6e6",
   "metadata": {},
   "source": [
    "### Statements and Blocks\n",
    "All statements in C/C++ end with a semicolon `;`.<br>\n",
    "Blocks of statements in C/C++ are delimited by brackets `{...}`. No indentation is required, but it is advised."
   ]
  },
  {
   "cell_type": "markdown",
   "id": "0722db83-2844-4853-bba5-9f6009ac92ba",
   "metadata": {},
   "source": [
    "### Functions\n",
    "The syntax of a function declaration in C/C++ is as follows:<br><br>\n",
    "*return_type* **function_name**(*type1* argument1, *type2* argument2, ...)<br><br>\n",
    "Every program requires a `int main(int argc, char *argv[])` function containing the execution block.<br>\n",
    "Some examples of function declarations and calls follow:"
   ]
  },
  {
   "cell_type": "markdown",
   "id": "127a06ab-44d7-4f24-834d-d4be59d41a18",
   "metadata": {},
   "source": [
    "<div class=\"alert alert-success\">\n",
    "\n",
    "`functions.cpp`\n",
    "```C++\n",
    "#include <cstdio>\n",
    "\n",
    "void print_hello() {\n",
    "  printf(\"Hello!\\n\");\n",
    "}\n",
    "\n",
    "double add_reals(double a, double b) {\n",
    "  return a + b;\n",
    "}\n",
    "\n",
    "int main(int argc, char *argv[]) {\n",
    "  print_hello();\n",
    "\n",
    "  double x = 3.14, y = 2.71;\n",
    "  double res = add_reals(x, y);\n",
    "  printf(\"Sum result: %f\\n\",res);\n",
    "  \n",
    "  return 0;\n",
    "}\n",
    "```\n",
    "</div>"
   ]
  },
  {
   "cell_type": "code",
   "execution_count": 10,
   "id": "75a0cf36-1356-48d1-8f9a-7c379e365ee3",
   "metadata": {},
   "outputs": [],
   "source": [
    "!g++ -o functions code/functions.cpp"
   ]
  },
  {
   "cell_type": "code",
   "execution_count": 11,
   "id": "e8746329-4869-43ea-8a74-b2c2b8e98979",
   "metadata": {},
   "outputs": [
    {
     "name": "stdout",
     "output_type": "stream",
     "text": [
      "Hello!\r\n",
      "Sum result: 5.850000\r\n"
     ]
    }
   ],
   "source": [
    "!./functions"
   ]
  },
  {
   "cell_type": "markdown",
   "id": "6caa4ce8-f056-4167-a471-1de4ca0cf2ac",
   "metadata": {},
   "source": [
    "Note the following:\n",
    "- The `print_hello` function does not take any arguments.\n",
    "- The `print_hello` function does not return any value, therefore the return type is set to `void`.\n",
    "- The `add_reals` function takes two real arguments of type `double`.\n",
    "- The `add_reals` function returns a real number of type `double`."
   ]
  },
  {
   "cell_type": "markdown",
   "id": "863a7ac8-33a7-4e3a-a0ec-750512b3222d",
   "metadata": {},
   "source": [
    "### Boolean operators\n",
    "The common boolean operators *and*, *or*, and *not* are:<br>\n",
    "\n",
    "\n",
    "| and | or | not |\n",
    "|----|----|----|\n",
    "| `&&` | `\\|\\|` | `!` | "
   ]
  },
  {
   "cell_type": "markdown",
   "id": "a2ab5ffa-9044-42ff-ab70-718121f87c34",
   "metadata": {},
   "source": [
    "### Conditional statements\n",
    "Conditional statements follow the syntax:<br><br>\n",
    "**if**(*proposition1*){<br>\n",
    "&emsp; statement_block1;<br>\n",
    "}**else if**(*proposition2*){<br>\n",
    "&emsp; statement_block2;<br>\n",
    "}**else if**(*proposition3*){<br>\n",
    "...<br>\n",
    "}**else**{<br>\n",
    "&emsp; default_statement;<br>\n",
    "}<br><br>\n",
    "An example of usage with a function that returns the greatest among 3 integer numbers follows:"
   ]
  },
  {
   "cell_type": "markdown",
   "id": "140677ce-4cc4-4cb1-a9e9-3a9625342597",
   "metadata": {},
   "source": [
    "<div class=\"alert alert-success\">\n",
    "\n",
    "`conditional.cpp`\n",
    "```C++\n",
    "#include <cstdio>\n",
    "#include <cstdlib>\n",
    "\n",
    "int greatest(int a, int b, int c) {\n",
    "  if(a > b && a > c){\n",
    "    return a;\n",
    "  }else if(b > a && b > c){  \n",
    "    return b;\n",
    "  }else{\n",
    "    return c;\n",
    "  }\n",
    "}\n",
    "\n",
    "int main(int argc, char *argv[]) {\n",
    "  int x = atoi(argv[1]);\n",
    "  int y = atoi(argv[2]);\n",
    "  int z = atoi(argv[3]);\n",
    "\n",
    "  int gr = greatest(x, y, z);\n",
    "  printf(\"The greatest number is %d\\n\",gr);\n",
    "  \n",
    "  return 0;\n",
    "}\n",
    "```\n",
    "</div>"
   ]
  },
  {
   "cell_type": "code",
   "execution_count": 12,
   "id": "7287def4-4b14-45fd-bc5c-6058cd65cd4e",
   "metadata": {},
   "outputs": [],
   "source": [
    "!g++ -o conditional code/conditional.cpp"
   ]
  },
  {
   "cell_type": "code",
   "execution_count": 13,
   "id": "58b287f9-a12c-4bc2-a639-c842400c79a7",
   "metadata": {},
   "outputs": [
    {
     "name": "stdout",
     "output_type": "stream",
     "text": [
      "The greatest number is 3\r\n"
     ]
    }
   ],
   "source": [
    "!./conditional 2 3 -5"
   ]
  },
  {
   "cell_type": "markdown",
   "id": "79033b35-89e6-4148-bd2c-9d3058d9661d",
   "metadata": {},
   "source": [
    "### Iteration statements\n",
    "The `for` loop follows the syntax:<br><br>\n",
    "**for**(*initialization*; *continuation_proposition*; *update*){<br>\n",
    "&emsp; statement_block;<br>\n",
    "}<br><br>\n",
    "\n",
    "An example of usage with a function that adds the integers from 3 to 10 follows:"
   ]
  },
  {
   "cell_type": "markdown",
   "id": "2c1cab4e-292c-4aab-9710-a51b8531887e",
   "metadata": {},
   "source": [
    "<div class=\"alert alert-success\">\n",
    "\n",
    "`for_loop.cpp`\n",
    "```C++\n",
    "#include <cstdio>\n",
    "\n",
    "int add_all(int from, int to) {\n",
    "  int sum = 0;\n",
    "  for(int i = from; i <= to; i++){\n",
    "    sum += i;\n",
    "  }\n",
    "  return sum;\n",
    "}\n",
    "\n",
    "int main(int argc, char *argv[]) {\n",
    "  int ans = add_all(3, 10);\n",
    "  printf(\"Result of adding integers from 3 to 10: %d\\n\", ans);\n",
    "  \n",
    "  return 0;\n",
    "}\n",
    "```\n",
    "</div>"
   ]
  },
  {
   "cell_type": "code",
   "execution_count": 14,
   "id": "4571b79b-ed7f-4844-913e-2d30a2d77985",
   "metadata": {},
   "outputs": [],
   "source": [
    "!g++ -o for_loop code/for_loop.cpp"
   ]
  },
  {
   "cell_type": "code",
   "execution_count": 15,
   "id": "bb192af3-d4e0-488f-b871-e3e43152b747",
   "metadata": {},
   "outputs": [
    {
     "name": "stdout",
     "output_type": "stream",
     "text": [
      "Result of adding integers from 3 to 10: 52\r\n"
     ]
    }
   ],
   "source": [
    "!./for_loop"
   ]
  },
  {
   "cell_type": "markdown",
   "id": "b811207f-7d6a-49cd-8d7e-4edb4f1fa614",
   "metadata": {},
   "source": [
    "The `while` loop follows the following syntax:<br><br>\n",
    "**while**(*proposition*){<br>\n",
    "&emsp; statement_block;<br>\n",
    "}<br><br>\n",
    "An example of usage with a function that prints the positive integers lesser than 7:"
   ]
  },
  {
   "cell_type": "markdown",
   "id": "00ca6dd0-25b1-4a5a-b895-9e7ef3dea45b",
   "metadata": {},
   "source": [
    "<div class=\"alert alert-success\">\n",
    "\n",
    "`while_loop.cpp`\n",
    "```C++\n",
    "#include <cstdio>\n",
    "\n",
    "void less_than_7() {\n",
    "  int num = 0;\n",
    "  while(num < 7){\n",
    "    printf(\"%d \", num);\n",
    "    num++;\n",
    "  }\n",
    "  printf(\"\\n\");\n",
    "}\n",
    "\n",
    "int main(int argc, char *argv[]) {\n",
    "  less_than_7();\n",
    "  \n",
    "  return 0;\n",
    "}\n",
    "```\n",
    "</div>"
   ]
  },
  {
   "cell_type": "code",
   "execution_count": 16,
   "id": "d00b511f-7515-4687-a31b-08bbbb241f2c",
   "metadata": {},
   "outputs": [],
   "source": [
    "!g++ -o while_loop code/while_loop.cpp"
   ]
  },
  {
   "cell_type": "code",
   "execution_count": 17,
   "id": "25471c11-46df-4469-af50-416a36a1e323",
   "metadata": {},
   "outputs": [
    {
     "name": "stdout",
     "output_type": "stream",
     "text": [
      "0 1 2 3 4 5 6 \r\n"
     ]
    }
   ],
   "source": [
    "!./while_loop"
   ]
  },
  {
   "cell_type": "markdown",
   "id": "cf2d0667",
   "metadata": {},
   "source": [
    "-----------------------------------------"
   ]
  },
  {
   "cell_type": "markdown",
   "id": "bd13bf91-aab3-431c-bfc5-6527832f3060",
   "metadata": {},
   "source": [
    "### Exercise 1 \n",
    "Write a function in C++ that returns the addition of all even, positive integers lesser that 13. Write, compile, and execute a program to test your function."
   ]
  },
  {
   "cell_type": "markdown",
   "id": "8d136f84",
   "metadata": {},
   "source": [
    "------------------------------------------"
   ]
  },
  {
   "cell_type": "markdown",
   "id": "076bc059-e87d-4b37-9057-498f1b50ffaf",
   "metadata": {},
   "source": [
    "## Part 3: References and Pointers ================================"
   ]
  },
  {
   "cell_type": "markdown",
   "id": "7270df9e-bf78-4098-bac8-c5f7fc0b8b71",
   "metadata": {},
   "source": [
    "### References\n",
    "In C/C++, an *identifier* is the name we give to a variable, which in turn is a space in memory that stores a value. A *reference* can be taught as an alternative identifier to a variable, i.e. a second name for the same variable. We declare a reference using `&` after declaring the type of the reference: For example `int &b;`. The following program illustrates the concept:"
   ]
  },
  {
   "cell_type": "markdown",
   "id": "3c3eed25-c4ef-40f3-97bc-2da85d52ded5",
   "metadata": {},
   "source": [
    "<div class=\"alert alert-success\">\n",
    "    \n",
    "`references.cpp`\n",
    "```C++\n",
    "#include <cstdio>\n",
    "\n",
    "int main(int argc, char *argv[]) {\n",
    "  int a = 3;\n",
    "  int &b = a;\n",
    "\n",
    "  printf(\"Initially\\na: %d, b: %d\\n\",a, b);\n",
    "\n",
    "  b = 5;\n",
    "  printf(\"After modifying b\\na: %d, b: %d\\n\",a, b);\n",
    "  \n",
    "  return 0;\n",
    "}\n",
    "```\n",
    "</div>"
   ]
  },
  {
   "cell_type": "code",
   "execution_count": 18,
   "id": "9b8fdb04-b4a0-4afd-9b31-031844af0599",
   "metadata": {},
   "outputs": [],
   "source": [
    "!g++ -o references code/references.cpp"
   ]
  },
  {
   "cell_type": "code",
   "execution_count": 19,
   "id": "dcbc711b-afb5-4775-ace8-a4734aab5814",
   "metadata": {},
   "outputs": [
    {
     "name": "stdout",
     "output_type": "stream",
     "text": [
      "Initially\r\n",
      "a: 3, b: 3\r\n",
      "After modifying b\r\n",
      "a: 5, b: 5\r\n"
     ]
    }
   ],
   "source": [
    "!./references"
   ]
  },
  {
   "cell_type": "markdown",
   "id": "a468aed7-71ae-442c-8d4c-cd3029bc4b9e",
   "metadata": {},
   "source": [
    "Note the following:\n",
    "- `a` is the identifier of an `int` variable that stores a `3`.\n",
    "- `b` is declared as a reference to the same variable as `a`.\n",
    "- By changing the value of `b` the value of `a` also changes, because both *reference* the same variable."
   ]
  },
  {
   "cell_type": "markdown",
   "id": "8f5fb62e-f4a6-43eb-b816-faaa56b33e94",
   "metadata": {},
   "source": [
    "**References as parameters of a function:** When a function in C/C++ takes parameters declared as regular variables, the function creates a copy of the value of the corresponding argument when the function is called. For example, when we call the function `void foo(int a)` as, say `foo(b)`, where `b` is an integer variable storing the value 3, a variable `a` will be created and a value of 3 will be stored in it. This is called *passing an argument by value*, and any modifications done to `a` do not reflect in `b`, as they refer to different entities."
   ]
  },
  {
   "cell_type": "markdown",
   "id": "1f587f93-e335-45a3-b9ae-d65386c425ea",
   "metadata": {},
   "source": [
    "<div class=\"alert alert-success\">\n",
    "    \n",
    "`pass_value.cpp`\n",
    "```C++\n",
    "#include <cstdio>\n",
    "\n",
    "void foo(int a) {\n",
    "  a++;\n",
    "  printf(\"a: %d\\n\",a);\n",
    "}\n",
    "\n",
    "int main(int argc, char *argv[]) {\n",
    "  int b = 3;\n",
    "  foo(b);\n",
    "  printf(\"b: %d\\n\",b);\n",
    "  \n",
    "  return 0;\n",
    "}\n",
    "```\n",
    "</div>"
   ]
  },
  {
   "cell_type": "code",
   "execution_count": 20,
   "id": "ae38516b-4a86-441d-a251-c480dd6c9249",
   "metadata": {},
   "outputs": [],
   "source": [
    "!g++ -o pass_value code/pass_value.cpp"
   ]
  },
  {
   "cell_type": "code",
   "execution_count": 21,
   "id": "cbd20390-74e5-4f97-bd76-8855a94c0982",
   "metadata": {},
   "outputs": [
    {
     "name": "stdout",
     "output_type": "stream",
     "text": [
      "a: 4\r\n",
      "b: 3\r\n"
     ]
    }
   ],
   "source": [
    "!./pass_value"
   ]
  },
  {
   "cell_type": "markdown",
   "id": "5bd0fa68-c4e2-4bc3-890e-1f0e16e88776",
   "metadata": {},
   "source": [
    "On the other hand, when the parameter of a function is declared as a reference, instead of creating a new variable and copying the value, a reference to the passed variable is created. Any modifications that the variable receives inside the function will be reflected in it. Note that the only change in the following program is that the parameter `a` of `foo` is now declared as a reference."
   ]
  },
  {
   "cell_type": "markdown",
   "id": "014657ac-72fd-4f61-ae8d-628c2c9a65c2",
   "metadata": {},
   "source": [
    "<div class=\"alert alert-success\">\n",
    "    \n",
    "`pass_reference.cpp`\n",
    "```C++\n",
    "#include <cstdio>\n",
    "\n",
    "void foo(int &a) {\n",
    "  a++;\n",
    "  printf(\"a: %d\\n\",a);\n",
    "}\n",
    "\n",
    "int main(int argc, char *argv[]) {\n",
    "  int b = 3;\n",
    "  foo(b);\n",
    "  printf(\"b: %d\\n\",b);\n",
    "  \n",
    "  return 0;\n",
    "}\n",
    "```\n",
    "</div>"
   ]
  },
  {
   "cell_type": "code",
   "execution_count": 22,
   "id": "d33fb12a-a104-4dea-b66e-eefd5585aa21",
   "metadata": {},
   "outputs": [],
   "source": [
    "!g++ -o pass_reference code/pass_reference.cpp"
   ]
  },
  {
   "cell_type": "code",
   "execution_count": 23,
   "id": "93e54456-c4f3-4517-bc35-0bb1bb348ec2",
   "metadata": {},
   "outputs": [
    {
     "name": "stdout",
     "output_type": "stream",
     "text": [
      "a: 4\r\n",
      "b: 4\r\n"
     ]
    }
   ],
   "source": [
    "!./pass_reference"
   ]
  },
  {
   "cell_type": "markdown",
   "id": "270498c4",
   "metadata": {},
   "source": [
    "------------------------------------"
   ]
  },
  {
   "cell_type": "markdown",
   "id": "377ca4ff-14d3-4d8b-81d9-a470c71db5d8",
   "metadata": {},
   "source": [
    "### Exercise 2\n",
    "Write a program that takes a reference to a `char` variable as a parameter. If the character is a lowercase vowel, it changes it to uppercase. Write, compile, and execute a program to test the function."
   ]
  },
  {
   "cell_type": "markdown",
   "id": "78690026",
   "metadata": {},
   "source": [
    "--------------------------------"
   ]
  },
  {
   "cell_type": "markdown",
   "id": "2075d406-8213-4779-8ecb-2b1fd2a9fcf6",
   "metadata": {},
   "source": [
    "### The reference operator `&`:\n",
    "A second use for the symbol `&` is called the *reference operator*. When this operator is applied to a variable like so: `&a`, it returns the address in memory of the said variable. The following program illustrates the concept:"
   ]
  },
  {
   "cell_type": "markdown",
   "id": "aafd46fe-af6c-4e17-bbf1-d946da46f5ce",
   "metadata": {},
   "source": [
    "<div class=\"alert alert-success\">\n",
    "    \n",
    "`reference_op.cpp`\n",
    "```C++\n",
    "#include <cstdio>\n",
    "\n",
    "int main(int argc, char *argv[]) {\n",
    "  int a = 3;\n",
    "  printf(\"Value of 'a': %d\\nMemory address where the value of 'a' is stored: %p\\n\", a, &a);\n",
    "  \n",
    "  return 0;\n",
    "}\n",
    "```\n",
    "</div>"
   ]
  },
  {
   "cell_type": "code",
   "execution_count": 24,
   "id": "a40593e4-31c1-4730-b719-01fba844ba66",
   "metadata": {},
   "outputs": [],
   "source": [
    "!g++ -o reference_op code/reference_op.cpp"
   ]
  },
  {
   "cell_type": "code",
   "execution_count": 25,
   "id": "c67730b7-6f21-4c12-aaa9-c3ea8fd43304",
   "metadata": {},
   "outputs": [
    {
     "name": "stdout",
     "output_type": "stream",
     "text": [
      "Value of 'a': 3\r\n",
      "Memory address where the value of 'a' is stored: 0x7ffe6379c354\r\n"
     ]
    }
   ],
   "source": [
    "!./reference_op"
   ]
  },
  {
   "cell_type": "markdown",
   "id": "391260f2-2643-46db-ac41-1cdda5a58ea6",
   "metadata": {},
   "source": [
    "### Pointers\n",
    "In C/C++, a *pointer* is a special kind of variable that stores a memory address, instead of a regular value. Pointers can be used to store the output of the reference operator when applied to a variable. We declare a pointer using `*` after declaring the type of the pointer. For example `int *p;`. The following program illustrates the concept: "
   ]
  },
  {
   "cell_type": "markdown",
   "id": "daa52f21-f873-4a8f-ace4-8c4c0fe09d92",
   "metadata": {},
   "source": [
    "<div class=\"alert alert-success\">\n",
    "    \n",
    "`pointers.cpp`\n",
    "```C++\n",
    "#include <cstdio>\n",
    "\n",
    "int main(int argc, char *argv[]) {\n",
    "  int a = 3;\n",
    "  int *p = &a;\n",
    "  printf(\"Value of 'a': %d\\nMemory address stored in 'p': %p\\n\", a, p);\n",
    "  \n",
    "  return 0;\n",
    "}\n",
    "```\n",
    "</div>"
   ]
  },
  {
   "cell_type": "code",
   "execution_count": 26,
   "id": "699839ee-c5de-48fa-98a5-9fe6aacfe89c",
   "metadata": {},
   "outputs": [],
   "source": [
    "!g++ -o pointers code/pointers.cpp"
   ]
  },
  {
   "cell_type": "code",
   "execution_count": 27,
   "id": "5e5d2994-5433-4be6-9d91-4982ccb02a3e",
   "metadata": {},
   "outputs": [
    {
     "name": "stdout",
     "output_type": "stream",
     "text": [
      "Value of 'a': 3\r\n",
      "Memory address stored in 'p': 0x7fffd899ca4c\r\n"
     ]
    }
   ],
   "source": [
    "!./pointers"
   ]
  },
  {
   "cell_type": "markdown",
   "id": "26e65771-60ea-4352-8ec6-5fee9005ab26",
   "metadata": {},
   "source": [
    "### The dereference operator `*`:\n",
    "A second use for the symbol `*` (or rather third, if you consider multiplication) is called the *dereference operator*. When this operator is applied to a pointer like so: `*p`, it returns the value stored in the address pointed to by `p`. The following program illustrates the concept:"
   ]
  },
  {
   "cell_type": "markdown",
   "id": "8325b92f-f649-43d3-94c7-7d6b2bee4b67",
   "metadata": {},
   "source": [
    "<div class=\"alert alert-success\">\n",
    "    \n",
    "`dereference_op.cpp`\n",
    "```C++\n",
    "#include <cstdio>\n",
    "\n",
    "int main(int argc, char *argv[]) {\n",
    "  int a = 3;\n",
    "  int *p = &a;\n",
    "  printf(\"Address %p stores the value %d\\n\",p,*p);\n",
    "  \n",
    "  return 0;\n",
    "}\n",
    "```\n",
    "</div>"
   ]
  },
  {
   "cell_type": "code",
   "execution_count": 28,
   "id": "aaf0539e-3cc3-4562-92df-ceab66cc12f8",
   "metadata": {},
   "outputs": [],
   "source": [
    "!g++ -o dereference_op code/dereference_op.cpp"
   ]
  },
  {
   "cell_type": "code",
   "execution_count": 29,
   "id": "9f0e2510-dc98-4899-9c71-e3714468e64b",
   "metadata": {},
   "outputs": [
    {
     "name": "stdout",
     "output_type": "stream",
     "text": [
      "Address 0x7ffeb6f7aa5c stores the value 3\r\n"
     ]
    }
   ],
   "source": [
    "!./dereference_op"
   ]
  },
  {
   "cell_type": "markdown",
   "id": "97414b9f",
   "metadata": {},
   "source": [
    "-------------------------------------"
   ]
  },
  {
   "cell_type": "markdown",
   "id": "0b1ea645-e256-4a85-96c8-f57ad69429a9",
   "metadata": {},
   "source": [
    "### Exercise 3\n",
    "Implement a program that does the following:\n",
    "- It has a function `void foo(int *p)` that receives a pointer to an integer as a parameter. The function uses dereference of the pointer to increment by 2 the value pointed by it.\n",
    "- The program creates an `int a;` variable to store a value passed to the program as an argument from the command line.\n",
    "- The program passes a pointer to `a` to the `foo` function.\n",
    "- The program finally prints the value of `a`, which should be incremented by two. "
   ]
  },
  {
   "cell_type": "markdown",
   "id": "3933c9db",
   "metadata": {},
   "source": [
    "---------------------------------"
   ]
  },
  {
   "cell_type": "markdown",
   "id": "20bd6334-ca1b-4590-ae11-6826f0346232",
   "metadata": {},
   "source": [
    "## Part 4: Dynamic memory allocation ======================================"
   ]
  },
  {
   "cell_type": "markdown",
   "id": "08aef194-29f2-49d8-b1eb-28a4a5b58a04",
   "metadata": {},
   "source": [
    "Most of the variables defined within the scope of a C/C++ program are allocated automatically in the memory stack. However, the stack has limits regarding the amount of memory that can be allocated for a single variable or array. When we need large amounts of memory, we have to allocate it \"manually\" from the memory heap, which is a less managed section of the memory.<br>"
   ]
  },
  {
   "cell_type": "markdown",
   "id": "aa8638f9-c373-4346-b3f7-42f2bb609c65",
   "metadata": {},
   "source": [
    "**Allocate memory for a single value:** To allocate memory from the heap for storing a single value, we need to declare a pointer to store the memory address where the variable will be allocated, and then we can use the `new` keyword as shown in the following example:"
   ]
  },
  {
   "cell_type": "markdown",
   "id": "21343740-3e4e-4458-a3dd-f18104967851",
   "metadata": {},
   "source": [
    "<div class=\"alert alert-success\">\n",
    "    \n",
    "`dyn_alloc_variable.cpp`\n",
    "```C++\n",
    "#include <cstdio>\n",
    "\n",
    "int main(int argc, char *argv[]) {\n",
    "  int *p = new int;\n",
    "  *p = 5;\n",
    "  \n",
    "  printf(\"Value stored in p: %d\\n\", *p);\n",
    "\n",
    "  delete p;\n",
    "  \n",
    "  return 0;\n",
    "}\n",
    "```\n",
    "</div>"
   ]
  },
  {
   "cell_type": "code",
   "execution_count": 30,
   "id": "5ac0cff2-6f89-4e8e-8cc1-7f9dda3b6ac1",
   "metadata": {},
   "outputs": [],
   "source": [
    "!g++ -o dyn_alloc_variable code/dyn_alloc_variable.cpp"
   ]
  },
  {
   "cell_type": "code",
   "execution_count": 31,
   "id": "7b09c4a3-0aac-45ea-a71a-31ae404fa238",
   "metadata": {},
   "outputs": [
    {
     "name": "stdout",
     "output_type": "stream",
     "text": [
      "Value stored in p: 5\r\n"
     ]
    }
   ],
   "source": [
    "!./dyn_alloc_variable"
   ]
  },
  {
   "cell_type": "markdown",
   "id": "85ce0060-4ec4-417b-b202-37080ea55e25",
   "metadata": {},
   "source": [
    "Note the following:\n",
    "- As the only way of accessing our variable is through a pointer, we have to use dereference to read or write its value.\n",
    "- Before ending the program, we need to free the allocated memory using the `delete` keyword."
   ]
  },
  {
   "cell_type": "markdown",
   "id": "22ba60cb-0ca7-4095-9ea6-7b222c5539af",
   "metadata": {},
   "source": [
    "**Allocate memory for an array of values:** We can allocate memory from the heap to store arrays of values in a similar manner than we did for a single value, but with a couple of tweaks, as shown in the following code, where an array of 10 integers is allocated and initialized to 1:"
   ]
  },
  {
   "cell_type": "markdown",
   "id": "861004d5-0321-469f-81cc-f0aff8e9d675",
   "metadata": {},
   "source": [
    "<div class=\"alert alert-success\">\n",
    "    \n",
    "`dyn_alloc_array.cpp`\n",
    "```C++\n",
    "#include <cstdio>\n",
    "\n",
    "int main(int argc, char *argv[]) {\n",
    "  int N = 10;\n",
    "  int *a = new int[N];\n",
    "  for(int i = 0; i < N; i++){\n",
    "    a[i] = 1;\n",
    "  }\n",
    "\n",
    "  for(int i = 0;  i < N; i++){\n",
    "    printf(\"%d \", a[i]);\n",
    "  }\n",
    "  printf(\"\\n\");\n",
    "\n",
    "  delete[] a;\n",
    "  \n",
    "  return 0;\n",
    "}\n",
    "```\n",
    "</div>"
   ]
  },
  {
   "cell_type": "code",
   "execution_count": 32,
   "id": "86f6f523-cf87-468e-881d-d94ddb065567",
   "metadata": {},
   "outputs": [],
   "source": [
    "!g++ -o dyn_alloc_array code/dyn_alloc_array.cpp"
   ]
  },
  {
   "cell_type": "code",
   "execution_count": 33,
   "id": "fec4abb6-8e09-41ec-929f-6b9044e6b137",
   "metadata": {},
   "outputs": [
    {
     "name": "stdout",
     "output_type": "stream",
     "text": [
      "1 1 1 1 1 1 1 1 1 1 \r\n"
     ]
    }
   ],
   "source": [
    "!./dyn_alloc_array"
   ]
  },
  {
   "cell_type": "markdown",
   "id": "eea5ce2f-e814-457a-84a4-a113d27764a6",
   "metadata": {},
   "source": [
    "Several things to note here:\n",
    "- The size of the array is specified within square brackets.\n",
    "- The elements of the array are accessed using the bracket `[]` operator, which is equivalent to a dereference.\n",
    "- When freeing the memory allocated for the array, the square brackets are to be placed immediately after the `delete` keyword."
   ]
  },
  {
   "cell_type": "markdown",
   "id": "8912c9d0",
   "metadata": {},
   "source": [
    "----------------------------------"
   ]
  },
  {
   "cell_type": "markdown",
   "id": "05010110-8bfd-40e9-b36d-28866d5f8dce",
   "metadata": {},
   "source": [
    "### Exercise 4\n",
    "The following function alows access of a 1D array of 20 `int` elements, as if it were a 5-row $\\times$ 4-column 2D-array, using the $j$ (row) and $i$ (column) indexes. So that, for example, element $(j=1,i=2)$ in the matrix is mapped to element $j*5+i=7$ on the 1D-array:"
   ]
  },
  {
   "cell_type": "markdown",
   "id": "ead575c7-1466-47fc-8b68-b471d15cbc1d",
   "metadata": {},
   "source": [
    "<div class=\"alert alert-success\">\n",
    "    \n",
    "```C++\n",
    "int* element(int *array, int j, int i) {\n",
    "  int *p = &array[j*4+i];\n",
    "  return p;\n",
    "}\n",
    "```\n",
    "</div>"
   ]
  },
  {
   "cell_type": "markdown",
   "id": "32c609d7-3bdb-4375-8ecd-b0fd5fed4818",
   "metadata": {},
   "source": [
    "Note that the function returns a pointer to the (j,i) element in question so that it can be accessed for reading or writing. <br>\n",
    "Write a program in which you:\n",
    "- Allocate a 1D array of 20 integers in the heap.\n",
    "- Using the `element` function, initialize the elements of the array with values from 0 to 19.\n",
    "- Using the `element` function, print the values as a 2D-array:\n",
    "```\n",
    "0 1 2 3\n",
    "4 5 6 7\n",
    "8 9 10 11\n",
    "12 13 14 15\n",
    "16 17 18 19\n",
    "```\n",
    "\n",
    "Don't forget to free the allocated memory!"
   ]
  },
  {
   "cell_type": "markdown",
   "id": "3174a8c8",
   "metadata": {},
   "source": [
    "--------------------------------------------------"
   ]
  }
 ],
 "metadata": {
  "kernelspec": {
   "display_name": "Python 3 (ipykernel)",
   "language": "python",
   "name": "python3"
  },
  "language_info": {
   "codemirror_mode": {
    "name": "ipython",
    "version": 3
   },
   "file_extension": ".py",
   "mimetype": "text/x-python",
   "name": "python",
   "nbconvert_exporter": "python",
   "pygments_lexer": "ipython3",
   "version": "3.10.6"
  }
 },
 "nbformat": 4,
 "nbformat_minor": 5
}
